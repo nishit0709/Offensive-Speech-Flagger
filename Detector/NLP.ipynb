{
  "nbformat": 4,
  "nbformat_minor": 0,
  "metadata": {
    "colab": {
      "name": "NLP.ipynb",
      "provenance": [],
      "collapsed_sections": []
    },
    "interpreter": {
      "hash": "916dbcbb3f70747c44a77c7bcd40155683ae19c65e1c03b4aa3499c5328201f1"
    },
    "kernelspec": {
      "display_name": "Python 3.8.10 64-bit",
      "name": "python3"
    },
    "language_info": {
      "codemirror_mode": {
        "name": "ipython",
        "version": 3
      },
      "file_extension": ".py",
      "mimetype": "text/x-python",
      "name": "python",
      "nbconvert_exporter": "python",
      "pygments_lexer": "ipython3",
      "version": "3.8.10"
    },
    "accelerator": "GPU"
  },
  "cells": [
    {
      "cell_type": "markdown",
      "metadata": {
        "id": "UBd-k5cTohpY"
      },
      "source": [
        "DATA PRE PROCESSING"
      ]
    },
    {
      "cell_type": "code",
      "metadata": {
        "colab": {
          "base_uri": "https://localhost:8080/"
        },
        "id": "u7h2AQgy-P0J",
        "outputId": "36adfe92-502f-4cd8-9206-5b928a8ab4ce"
      },
      "source": [
        "from google.colab import drive\n",
        "drive.mount('/content/drive/')"
      ],
      "execution_count": null,
      "outputs": [
        {
          "output_type": "stream",
          "name": "stdout",
          "text": [
            "Drive already mounted at /content/drive/; to attempt to forcibly remount, call drive.mount(\"/content/drive/\", force_remount=True).\n"
          ]
        }
      ]
    },
    {
      "cell_type": "code",
      "metadata": {
        "colab": {
          "base_uri": "https://localhost:8080/"
        },
        "id": "Hm5tOi1Z-Upw",
        "outputId": "0d1ceec7-3b88-41ec-d81a-509b41250e92"
      },
      "source": [
        "import tensorflow as tf\n",
        "print(tf.__version__)\n"
      ],
      "execution_count": null,
      "outputs": [
        {
          "output_type": "stream",
          "name": "stdout",
          "text": [
            "2.7.0\n"
          ]
        }
      ]
    },
    {
      "cell_type": "code",
      "metadata": {
        "id": "C60mmqFnrXS0",
        "scrolled": false,
        "colab": {
          "base_uri": "https://localhost:8080/"
        },
        "outputId": "3bc095f0-af28-4ad2-c60d-387860ab16da"
      },
      "source": [
        "!pip install tweet-preprocessor"
      ],
      "execution_count": null,
      "outputs": [
        {
          "output_type": "stream",
          "name": "stdout",
          "text": [
            "Requirement already satisfied: tweet-preprocessor in /usr/local/lib/python3.7/dist-packages (0.6.0)\n"
          ]
        }
      ]
    },
    {
      "cell_type": "code",
      "metadata": {
        "id": "fVqCw7JbohXf"
      },
      "source": [
        "import numpy as np\n",
        "import pandas as pd"
      ],
      "execution_count": null,
      "outputs": []
    },
    {
      "cell_type": "code",
      "metadata": {
        "colab": {
          "base_uri": "https://localhost:8080/"
        },
        "id": "jQLhTcC7oqFn",
        "outputId": "e0597a2d-d561-4fea-b143-77687d705ba7"
      },
      "source": [
        "import re\n",
        "import nltk\n",
        "import preprocessor as preproc\n",
        "from nltk.corpus import stopwords\n",
        "from nltk.stem import PorterStemmer\n",
        "from nltk.stem import WordNetLemmatizer\n",
        "\n",
        "\n",
        "nltk.download('stopwords')\n",
        "nltk.download('wordnet')\n",
        "stop_words = set(stopwords.words(\"english\"))"
      ],
      "execution_count": null,
      "outputs": [
        {
          "output_type": "stream",
          "name": "stdout",
          "text": [
            "[nltk_data] Downloading package stopwords to /root/nltk_data...\n",
            "[nltk_data]   Package stopwords is already up-to-date!\n",
            "[nltk_data] Downloading package wordnet to /root/nltk_data...\n",
            "[nltk_data]   Package wordnet is already up-to-date!\n"
          ]
        }
      ]
    },
    {
      "cell_type": "code",
      "metadata": {
        "id": "wpSvd4_RO2e9",
        "colab": {
          "base_uri": "https://localhost:8080/"
        },
        "outputId": "b45a15a7-ed39-4420-dd5d-d42c8c09ae2b"
      },
      "source": [
        "df1 = pd.read_csv('/content/drive/MyDrive/Colab Notebooks/ISAA_DATASET/kaggle_parsed_dataset.csv')\n",
        "df2 = pd.read_csv('/content/drive/MyDrive/Colab Notebooks/ISAA_DATASET/twitter_racism_parsed_dataset.csv')\n",
        "df3 = pd.read_csv('/content/drive/MyDrive/Colab Notebooks/ISAA_DATASET/twitter_sexism_parsed_dataset.csv')\n",
        "df4 = pd.read_csv('/content/drive/MyDrive/Colab Notebooks/ISAA_DATASET/data.csv')\n",
        "print(len(df1))\n",
        "print(len(df2))\n",
        "print(len(df3))\n",
        "print(len(df4))"
      ],
      "execution_count": null,
      "outputs": [
        {
          "output_type": "stream",
          "name": "stdout",
          "text": [
            "8799\n",
            "13471\n",
            "14881\n",
            "24783\n"
          ]
        }
      ]
    },
    {
      "cell_type": "code",
      "metadata": {
        "colab": {
          "base_uri": "https://localhost:8080/",
          "height": 1000
        },
        "id": "yXVf7tMMHF9E",
        "outputId": "92d41d30-0568-433e-892a-58dd30f03736"
      },
      "source": [
        "df1.hist(column=\"oh_label\")\n",
        "print(len(df1.query('oh_label == 0')))\n",
        "df2.hist(column=\"oh_label\")\n",
        "print(len(df2.query('oh_label == 0')))\n",
        "df3.hist(column=\"oh_label\")\n",
        "print(len(df3.query('oh_label == 0')))\n",
        "df4.hist(column=\"class\")"
      ],
      "execution_count": null,
      "outputs": [
        {
          "output_type": "stream",
          "name": "stdout",
          "text": [
            "5993\n",
            "11501\n",
            "11501\n"
          ]
        },
        {
          "output_type": "execute_result",
          "data": {
            "text/plain": [
              "array([[<matplotlib.axes._subplots.AxesSubplot object at 0x7f63a5b7fa50>]],\n",
              "      dtype=object)"
            ]
          },
          "metadata": {},
          "execution_count": 55
        },
        {
          "output_type": "display_data",
          "data": {
            "image/png": "[encoded data removed]",
            "text/plain": [
              "<Figure size 432x288 with 1 Axes>"
            ]
          },
          "metadata": {
            "needs_background": "light"
          }
        },
        {
          "output_type": "display_data",
          "data": {
            "image/png": "[encoded data removed]",
            "text/plain": [
              "<Figure size 432x288 with 1 Axes>"
            ]
          },
          "metadata": {
            "needs_background": "light"
          }
        },
        {
          "output_type": "display_data",
          "data": {
            "image/png": "[encoded data removed]",
            "text/plain": [
              "<Figure size 432x288 with 1 Axes>"
            ]
          },
          "metadata": {
            "needs_background": "light"
          }
        },
        {
          "output_type": "display_data",
          "data": {
            "image/png": "[encoded data removed]",
            "text/plain": [
              "<Figure size 432x288 with 1 Axes>"
            ]
          },
          "metadata": {
            "needs_background": "light"
          }
        }
      ]
    },
    {
      "cell_type": "code",
      "metadata": {
        "colab": {
          "base_uri": "https://localhost:8080/"
        },
        "id": "XFZ4d7BFMW3g",
        "outputId": "e1c82c8a-1db2-4557-aab0-2146bdd053fa"
      },
      "source": [
        "print(df4.head())\n",
        "print(len(df4['class']))"
      ],
      "execution_count": null,
      "outputs": [
        {
          "output_type": "stream",
          "name": "stdout",
          "text": [
            "   Unnamed: 0  class                                              tweet\n",
            "0           0      0  !!! RT @mayasolovely: As a woman you shouldn't...\n",
            "1           1      1  !!!!! RT @mleew17: boy dats cold...tyga dwn ba...\n",
            "2           2      1  !!!!!!! RT @UrKindOfBrand Dawg!!!! RT @80sbaby...\n",
            "3           3      1  !!!!!!!!! RT @C_G_Anderson: @viva_based she lo...\n",
            "4           4      1  !!!!!!!!!!!!! RT @ShenikaRoberts: The shit you...\n",
            "24783\n"
          ]
        }
      ]
    },
    {
      "cell_type": "code",
      "metadata": {
        "colab": {
          "base_uri": "https://localhost:8080/"
        },
        "id": "R1lzUdCYtXHQ",
        "outputId": "1654161c-27fc-4dd5-e149-b6f50ffc0d22"
      },
      "source": [
        "df1 = df1[df1['Text'].str.split().str.len().lt(50)]\n",
        "df2 = df2[df2['Text'].str.split().str.len().lt(50)]\n",
        "df3 = df3[df3['Text'].str.split().str.len().lt(50)]\n",
        "df4 = df4[df4['tweet'].str.split().str.len().lt(50)]\n",
        "\n",
        "print(len(df1))\n",
        "print(len(df2))\n",
        "print(len(df3))\n",
        "print(len(df4))"
      ],
      "execution_count": null,
      "outputs": [
        {
          "output_type": "stream",
          "name": "stdout",
          "text": [
            "7552\n",
            "13471\n",
            "14880\n",
            "24782\n"
          ]
        }
      ]
    },
    {
      "cell_type": "code",
      "metadata": {
        "colab": {
          "base_uri": "https://localhost:8080/",
          "height": 332
        },
        "id": "foAtjcAEO2e-",
        "scrolled": false,
        "outputId": "1a61e367-5443-4a52-b8b4-4c36b5741a04"
      },
      "source": [
        "A = np.concatenate([df1['Text'].values, df2['Text'].values, df3['Text'].values, df4['tweet'].values],axis=0)\n",
        "B = np.concatenate([df1['oh_label'].values, df2['oh_label'].values, df3['oh_label'].values, df4['class'].values],axis=0)\n",
        "df = pd.DataFrame()\n",
        "df['text'] = A.tolist()\n",
        "df['label'] = B.tolist()\n",
        "df.sample(frac=1).reset_index(drop=True)\n",
        "df = df.dropna()\n",
        "df.hist(column=\"label\")\n",
        "print(len(df.query('label == 0')))\n",
        "print(len(df.query('label == 1')))\n",
        "print(len(df))"
      ],
      "execution_count": null,
      "outputs": [
        {
          "output_type": "stream",
          "name": "stdout",
          "text": [
            "32216\n",
            "28467\n",
            "60683\n"
          ]
        },
        {
          "output_type": "display_data",
          "data": {
            "image/png": "[encoded data removed]",
            "text/plain": [
              "<Figure size 432x288 with 1 Axes>"
            ]
          },
          "metadata": {
            "needs_background": "light"
          }
        }
      ]
    },
    {
      "cell_type": "code",
      "metadata": {
        "colab": {
          "base_uri": "https://localhost:8080/",
          "height": 315
        },
        "id": "5shUc0S4xDaS",
        "outputId": "2de1f6c3-0331-41b4-b5c4-a64d08b5ba99"
      },
      "source": [
        "#df = df.drop(df.query('label == 0').sample(frac=.71).index)\n",
        "df.hist(column=\"label\")\n",
        "print(len(df.query('label == 0')))\n",
        "print(len(df.query('label == 1')))"
      ],
      "execution_count": null,
      "outputs": [
        {
          "output_type": "stream",
          "name": "stdout",
          "text": [
            "32216\n",
            "28467\n"
          ]
        },
        {
          "output_type": "display_data",
          "data": {
            "image/png": "[encoded data removed]",
            "text/plain": [
              "<Figure size 432x288 with 1 Axes>"
            ]
          },
          "metadata": {
            "needs_background": "light"
          }
        }
      ]
    },
    {
      "cell_type": "code",
      "metadata": {
        "id": "pzIaaGfBsMFQ",
        "scrolled": true
      },
      "source": [
        "#Dataset Cleaning\n",
        "\n",
        "import preprocessor as p\n",
        "ps = PorterStemmer()\n",
        "\n",
        "#Clean the text\n",
        "def regexCleaning(text):\n",
        "  text = p.clean(text)\n",
        "  text = re.sub('[^a-zA-Z]| {2,}',' ',text)\n",
        "  text = text.lower()\n",
        "  text = text.split()\n",
        "  text = [ps.stem(word) for word in text if word not in stop_words]\n",
        "  text = ' '.join(text)\n",
        "  if(len(text)):\n",
        "    return text\n",
        "  else:\n",
        "    pass"
      ],
      "execution_count": null,
      "outputs": []
    },
    {
      "cell_type": "code",
      "metadata": {
        "colab": {
          "base_uri": "https://localhost:8080/"
        },
        "id": "1G--oKl3sMFR",
        "outputId": "779d6829-99c4-46d9-8d3d-3369c346a081"
      },
      "source": [
        "X = df.iloc[:,0].values\n",
        "y = df.iloc[:,1].values\n",
        "\n",
        "print(X.shape)\n",
        "print(y.shape)\n",
        "\n",
        "X_cleaned = []\n",
        "y_cleaned = []\n",
        "for index,tweet in enumerate(X):\n",
        "  cleaned_tweet = regexCleaning(tweet)\n",
        "  if(cleaned_tweet):\n",
        "    X_cleaned.append(cleaned_tweet)\n",
        "    y_cleaned.append(y[index])\n",
        "\n",
        "X_cleaned = np.asarray(X_cleaned)\n",
        "y_cleaned = np.asarray(y_cleaned)"
      ],
      "execution_count": null,
      "outputs": [
        {
          "output_type": "stream",
          "name": "stdout",
          "text": [
            "(60683,)\n",
            "(60683,)\n"
          ]
        }
      ]
    },
    {
      "cell_type": "code",
      "metadata": {
        "colab": {
          "base_uri": "https://localhost:8080/"
        },
        "id": "Kj7kHuMAAagD",
        "outputId": "657fb46d-bc28-4b95-ba59-2adc4a3e1b88"
      },
      "source": [
        "indices = np.arange(X_cleaned.shape[0])\n",
        "np.random.shuffle(indices)\n",
        "X_cleaned = X_cleaned[indices]\n",
        "y_cleaned = y_cleaned[indices]\n",
        "\n",
        "print(X_cleaned.shape)\n",
        "print(y_cleaned.shape)"
      ],
      "execution_count": null,
      "outputs": [
        {
          "output_type": "stream",
          "name": "stdout",
          "text": [
            "(59881,)\n",
            "(59881,)\n"
          ]
        }
      ]
    },
    {
      "cell_type": "code",
      "metadata": {
        "colab": {
          "base_uri": "https://localhost:8080/"
        },
        "id": "UeE0d6AGRrpb",
        "outputId": "1f46de03-5a89-400d-df09-2448f1a71953"
      },
      "source": [
        "from keras.preprocessing.text import Tokenizer\n",
        "from keras.preprocessing.sequence import pad_sequences\n",
        "\n",
        "maxlen = 50\n",
        "max_words = 20000\n",
        "\n",
        "tokenizer = Tokenizer(num_words=max_words)\n",
        "tokenizer.fit_on_texts(X_cleaned)\n",
        "sequences = tokenizer.texts_to_sequences(X_cleaned)\n",
        "word_index = tokenizer.word_index\n",
        "print(\"Number of unique tokens are: \",len(word_index))\n",
        "X_padded = pad_sequences(sequences, maxlen=maxlen, truncating=\"post\", padding=\"post\")"
      ],
      "execution_count": null,
      "outputs": [
        {
          "output_type": "stream",
          "name": "stdout",
          "text": [
            "Number of unique tokens are:  23471\n"
          ]
        }
      ]
    },
    {
      "cell_type": "code",
      "metadata": {
        "colab": {
          "base_uri": "https://localhost:8080/"
        },
        "id": "HbxQKceZO2fB",
        "collapsed": true,
        "outputId": "29b16a37-3a71-48cd-f94e-798e370bfb2b"
      },
      "source": [
        "X = X_padded\n",
        "y = y_cleaned\n",
        "print(X.shape)\n",
        "print(y.shape)"
      ],
      "execution_count": null,
      "outputs": [
        {
          "output_type": "stream",
          "name": "stdout",
          "text": [
            "(59881, 50)\n",
            "(59881,)\n"
          ]
        }
      ]
    },
    {
      "cell_type": "code",
      "metadata": {
        "colab": {
          "base_uri": "https://localhost:8080/"
        },
        "id": "2Eku53-SsMFU",
        "scrolled": true,
        "outputId": "fb58e0dc-c4a9-410f-a350-ac5b5649885a"
      },
      "source": [
        "from sklearn.model_selection import train_test_split\n",
        "\n",
        "X_train, X_test, y_train, y_test = train_test_split(X, y, test_size=0.3, random_state=42)\n",
        "X_test, X_val, y_test, y_val = train_test_split(X_test, y_test, test_size=0.5, random_state=42)\n",
        "print(X_train)"
      ],
      "execution_count": null,
      "outputs": [
        {
          "output_type": "stream",
          "name": "stdout",
          "text": [
            "[[11030    38     0 ...     0     0     0]\n",
            " [    4    58    40 ...     0     0     0]\n",
            " [  184  1691    34 ...     0     0     0]\n",
            " ...\n",
            " [    1   260   385 ...     0     0     0]\n",
            " [    4  6051   306 ...     0     0     0]\n",
            " [  249     7   486 ...     0     0     0]]\n"
          ]
        }
      ]
    },
    {
      "cell_type": "code",
      "metadata": {
        "colab": {
          "base_uri": "https://localhost:8080/"
        },
        "id": "UaLDNygEO2fD",
        "outputId": "95c84662-4d80-426a-b75c-332580fab20e"
      },
      "source": [
        "print(X_train.shape)\n",
        "print(y_train.shape)\n",
        "print(X_test.shape)\n",
        "print(y_test.shape)\n",
        "print(X_val.shape)\n",
        "print(y_val.shape)"
      ],
      "execution_count": null,
      "outputs": [
        {
          "output_type": "stream",
          "name": "stdout",
          "text": [
            "(41916, 50)\n",
            "(41916,)\n",
            "(8982, 50)\n",
            "(8982,)\n",
            "(8983, 50)\n",
            "(8983,)\n"
          ]
        }
      ]
    },
    {
      "cell_type": "code",
      "metadata": {
        "id": "agQEycl6sMFV",
        "colab": {
          "base_uri": "https://localhost:8080/"
        },
        "outputId": "2a915825-26ad-426f-a2e4-613f94876266"
      },
      "source": [
        "from tensorflow.keras.models import Sequential\n",
        "from tensorflow.keras.layers import Embedding\n",
        "from keras.layers import LSTM, Dense, Embedding, Dropout\n",
        "from tensorflow.keras.callbacks import EarlyStopping\n",
        "\n",
        "early_stopping = EarlyStopping(\n",
        "    monitor='val_accuracy', \n",
        "    patience=4, \n",
        ")\n",
        "\n",
        "model = Sequential()\n",
        "model.add(Embedding(max_words, 50, input_length=maxlen))\n",
        "model.add(LSTM(100, return_sequences = True, dropout=0.5))\n",
        "model.add(LSTM(50, dropout=0.4))\n",
        "model.add(Dense(30))\n",
        "model.add(Dense(1,activation='sigmoid'))\n",
        "\n",
        "model.compile(loss='binary_crossentropy',optimizer='adam',metrics=['accuracy'])\n",
        "\n",
        "print(model.summary())\n"
      ],
      "execution_count": null,
      "outputs": [
        {
          "output_type": "stream",
          "name": "stdout",
          "text": [
            "Model: \"sequential_10\"\n",
            "_________________________________________________________________\n",
            " Layer (type)                Output Shape              Param #   \n",
            "=================================================================\n",
            " embedding_10 (Embedding)    (None, 50, 50)            1000000   \n",
            "                                                                 \n",
            " lstm_20 (LSTM)              (None, 50, 100)           60400     \n",
            "                                                                 \n",
            " lstm_21 (LSTM)              (None, 50)                30200     \n",
            "                                                                 \n",
            " dense_18 (Dense)            (None, 30)                1530      \n",
            "                                                                 \n",
            " dense_19 (Dense)            (None, 1)                 31        \n",
            "                                                                 \n",
            "=================================================================\n",
            "Total params: 1,092,161\n",
            "Trainable params: 1,092,161\n",
            "Non-trainable params: 0\n",
            "_________________________________________________________________\n",
            "None\n"
          ]
        }
      ]
    },
    {
      "cell_type": "code",
      "metadata": {
        "colab": {
          "base_uri": "https://localhost:8080/"
        },
        "id": "7POTJnv6sMFW",
        "scrolled": true,
        "outputId": "395311cc-6d1e-4f6d-eb9a-9fd4c99dcaf8"
      },
      "source": [
        "history = model.fit(X_train, y_train, validation_data=(X_val, y_val), epochs=15, batch_size=64, callbacks=[early_stopping])"
      ],
      "execution_count": null,
      "outputs": [
        {
          "output_type": "stream",
          "name": "stdout",
          "text": [
            "Epoch 1/15\n",
            "655/655 [==============================] - 32s 34ms/step - loss: 0.5716 - accuracy: 0.6989 - val_loss: 0.5097 - val_accuracy: 0.7934\n",
            "Epoch 2/15\n",
            "655/655 [==============================] - 21s 32ms/step - loss: 0.4962 - accuracy: 0.7972 - val_loss: 0.4741 - val_accuracy: 0.7837\n",
            "Epoch 3/15\n",
            "655/655 [==============================] - 21s 32ms/step - loss: 0.4722 - accuracy: 0.7947 - val_loss: 0.4566 - val_accuracy: 0.8047\n",
            "Epoch 4/15\n",
            "655/655 [==============================] - 21s 32ms/step - loss: 0.5138 - accuracy: 0.7444 - val_loss: 0.6465 - val_accuracy: 0.5815\n",
            "Epoch 5/15\n",
            "655/655 [==============================] - 21s 32ms/step - loss: 0.4887 - accuracy: 0.7431 - val_loss: 0.3308 - val_accuracy: 0.8684\n",
            "Epoch 6/15\n",
            "655/655 [==============================] - 21s 32ms/step - loss: 0.3088 - accuracy: 0.8806 - val_loss: 0.3068 - val_accuracy: 0.8755\n",
            "Epoch 7/15\n",
            "655/655 [==============================] - 21s 32ms/step - loss: 0.2751 - accuracy: 0.8961 - val_loss: 0.3011 - val_accuracy: 0.8710\n",
            "Epoch 8/15\n",
            "655/655 [==============================] - 21s 32ms/step - loss: 0.2450 - accuracy: 0.9081 - val_loss: 0.2961 - val_accuracy: 0.8797\n",
            "Epoch 9/15\n",
            "655/655 [==============================] - 21s 32ms/step - loss: 0.2244 - accuracy: 0.9186 - val_loss: 0.2894 - val_accuracy: 0.8803\n",
            "Epoch 10/15\n",
            "655/655 [==============================] - 21s 32ms/step - loss: 0.2043 - accuracy: 0.9261 - val_loss: 0.3030 - val_accuracy: 0.8804\n",
            "Epoch 11/15\n",
            "655/655 [==============================] - 21s 32ms/step - loss: 0.1862 - accuracy: 0.9326 - val_loss: 0.3113 - val_accuracy: 0.8790\n",
            "Epoch 12/15\n",
            "655/655 [==============================] - 21s 32ms/step - loss: 0.1705 - accuracy: 0.9392 - val_loss: 0.3529 - val_accuracy: 0.8780\n",
            "Epoch 13/15\n",
            "655/655 [==============================] - 21s 32ms/step - loss: 0.1574 - accuracy: 0.9426 - val_loss: 0.3401 - val_accuracy: 0.8774\n",
            "Epoch 14/15\n",
            "655/655 [==============================] - 21s 32ms/step - loss: 0.1460 - accuracy: 0.9475 - val_loss: 0.3292 - val_accuracy: 0.8763\n"
          ]
        }
      ]
    },
    {
      "cell_type": "code",
      "metadata": {
        "id": "UTgF0d1Zf5KY",
        "colab": {
          "base_uri": "https://localhost:8080/",
          "height": 545
        },
        "outputId": "9456b771-3429-427a-bb49-6802b46f1b62"
      },
      "source": [
        "import matplotlib.pyplot as plt\n",
        "acc = history.history['accuracy']\n",
        "val_acc = history.history['val_accuracy']\n",
        "loss = history.history['loss']\n",
        "val_loss = history.history['val_loss']\n",
        "\n",
        "epochs = range(1,len(acc) + 1)\n",
        "plt.plot(epochs, acc, 'bo', label='Training acc')\n",
        "plt.plot(epochs, val_acc, 'b', label='Validation acc')\n",
        "plt.title('Training and validation accuracy')\n",
        "\n",
        "plt.figure()\n",
        "\n",
        "plt.plot(epochs, loss, 'bo', label='Training loss')\n",
        "plt.plot(epochs, val_loss, 'b', label='Validation loss')\n",
        "plt.title('Training and validation loss')\n",
        "plt.legend()\n",
        "plt.show()"
      ],
      "execution_count": null,
      "outputs": [
        {
          "output_type": "display_data",
          "data": {
            "image/png": "[encoded data removed]",
            "text/plain": [
              "<Figure size 432x288 with 1 Axes>"
            ]
          },
          "metadata": {
            "needs_background": "light"
          }
        },
        {
          "output_type": "display_data",
          "data": {
            "image/png": "[encoded data removed]",
            "text/plain": [
              "<Figure size 432x288 with 1 Axes>"
            ]
          },
          "metadata": {
            "needs_background": "light"
          }
        }
      ]
    },
    {
      "cell_type": "code",
      "metadata": {
        "id": "xJQyDrlFsMFX",
        "colab": {
          "base_uri": "https://localhost:8080/",
          "height": 354
        },
        "outputId": "7b4ac38d-df0a-4822-e954-db5d5e56cf45"
      },
      "source": [
        "#Confusion Matrix\n",
        "from sklearn.metrics import confusion_matrix\n",
        "from sklearn.metrics import accuracy_score\n",
        "import seaborn as sns\n",
        "\n",
        "\n",
        "y_pred=(model.predict(X_test) > 0.5).astype(\"int32\")\n",
        "cf_matrix = confusion_matrix(y_test,y_pred)\n",
        "\n",
        "ax = sns.heatmap(cf_matrix, annot=True, cmap='Blues')\n",
        "ax.set_title('Confusion Matrix\\n\\n');\n",
        "ax.set_xlabel('\\nPredicted Values')\n",
        "ax.set_ylabel('Actual Values ');\n",
        "\n",
        "## Ticket labels - List must be in alphabetical order\n",
        "ax.xaxis.set_ticklabels(['False','True'])\n",
        "ax.yaxis.set_ticklabels(['False','True'])\n",
        "\n",
        "## Display the visualization of the Confusion Matrix.\n",
        "plt.show()\n",
        "print(accuracy_score(y_test,y_pred))"
      ],
      "execution_count": null,
      "outputs": [
        {
          "output_type": "display_data",
          "data": {
            "image/png": "[encoded data removed]",
            "text/plain": [
              "<Figure size 432x288 with 2 Axes>"
            ]
          },
          "metadata": {
            "needs_background": "light"
          }
        },
        {
          "output_type": "stream",
          "name": "stdout",
          "text": [
            "0.8830995323981295\n"
          ]
        }
      ]
    },
    {
      "cell_type": "code",
      "metadata": {
        "id": "9bVCJilHYwNG",
        "colab": {
          "base_uri": "https://localhost:8080/"
        },
        "outputId": "54272bc5-73e1-4fcd-bb80-48f207508c2f"
      },
      "source": [
        "import io, json\n",
        "model_json = model.to_json()\n",
        "with open(\"model.json\", \"w\") as json_file:\n",
        "    json_file.write(model_json)\n",
        "\n",
        "# serialize weights to HDF5\n",
        "model.save_weights(\"model.h5\")\n",
        "\n",
        "tokenizer_json = tokenizer.to_json()\n",
        "with io.open('tokenizer.json', 'w', encoding='utf-8') as f:\n",
        "    f.write(json.dumps(tokenizer_json, ensure_ascii=False))\n",
        "\n",
        "print(\"Saved model to disk\")"
      ],
      "execution_count": null,
      "outputs": [
        {
          "output_type": "stream",
          "name": "stdout",
          "text": [
            "Saved model to disk\n"
          ]
        }
      ]
    }
  ]
}